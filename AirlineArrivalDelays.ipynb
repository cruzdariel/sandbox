{
 "cells": [
  {
   "cell_type": "code",
   "execution_count": 30,
   "outputs": [
    {
     "name": "stdout",
     "output_type": "stream",
     "text": [
      "Total Rows: 41177\n"
     ]
    }
   ],
   "source": [],
   "metadata": {
    "collapsed": false,
    "ExecuteTime": {
     "end_time": "2023-09-01T22:35:26.358777Z",
     "start_time": "2023-09-01T22:35:26.297007Z"
    }
   },
   "id": "4862beba735101de"
  },
  {
   "cell_type": "code",
   "execution_count": 35,
   "outputs": [],
   "source": [
    "import pandas as pd\n",
    "import matplotlib.pyplot as plt\n",
    "from mpl_toolkits.basemap import Basemap\n",
    "\n",
    "# Reading the dataframes from 2018 and 2019\n",
    "df_18 = pd.read_csv('delays_2018.csv')\n",
    "df_19 = pd.read_csv('delays_2019.csv')\n",
    "\n",
    "# Merging 2018 and 2019 to a single Dataframe using .concat\n",
    "df = pd.concat([df_18, df_19], ignore_index=True)\n",
    "\n",
    "print('Total Rows: ' + str(len(df_18) + len(df_19)))"
   ],
   "metadata": {
    "collapsed": false,
    "ExecuteTime": {
     "end_time": "2023-09-01T22:42:51.821555Z",
     "start_time": "2023-09-01T22:42:51.820510Z"
    }
   },
   "id": "initial_id"
  },
  {
   "cell_type": "code",
   "execution_count": 18,
   "outputs": [],
   "source": [
    "# Changing the date column in df to date format YYYY-M\n",
    "\n",
    "df['date'] = pd.to_datetime(df['date'], format='%Y-%m')\n",
    "\n",
    "# Remove rows containing invalid data.\n",
    "df = df[(df['date'] >= '2018-01') & (df['date'] <= '2019-12') & (df['arr_flights'].notnull())\n",
    "              & (df['carrier'].notnull()) & (df['carrier_name'].notnull()) \n",
    "              & (df['airport'].notnull()) & (df['airport_name'].notnull())]\n",
    "\n",
    "print(str(len(df)))"
   ],
   "metadata": {
    "collapsed": false,
    "ExecuteTime": {
     "end_time": "2023-09-01T22:31:07.467506Z",
     "start_time": "2023-09-01T22:31:07.465121Z"
    }
   },
   "id": "7f467ed7770380a4"
  },
  {
   "cell_type": "code",
   "execution_count": 33,
   "outputs": [
    {
     "data": {
      "text/plain": "airport    MCO\ncarrier       \n9E         1.0\nAA        83.0\nAS        18.0\nB6       116.0\nDL       115.0\nEV         0.0\nF9        28.0\nNK        85.0\nOO         0.0\nUA        83.0\nVX         1.0\nWN       251.0\nYX         0.0",
      "text/html": "<div>\n<style scoped>\n    .dataframe tbody tr th:only-of-type {\n        vertical-align: middle;\n    }\n\n    .dataframe tbody tr th {\n        vertical-align: top;\n    }\n\n    .dataframe thead th {\n        text-align: right;\n    }\n</style>\n<table border=\"1\" class=\"dataframe\">\n  <thead>\n    <tr style=\"text-align: right;\">\n      <th>airport</th>\n      <th>MCO</th>\n    </tr>\n    <tr>\n      <th>carrier</th>\n      <th></th>\n    </tr>\n  </thead>\n  <tbody>\n    <tr>\n      <th>9E</th>\n      <td>1.0</td>\n    </tr>\n    <tr>\n      <th>AA</th>\n      <td>83.0</td>\n    </tr>\n    <tr>\n      <th>AS</th>\n      <td>18.0</td>\n    </tr>\n    <tr>\n      <th>B6</th>\n      <td>116.0</td>\n    </tr>\n    <tr>\n      <th>DL</th>\n      <td>115.0</td>\n    </tr>\n    <tr>\n      <th>EV</th>\n      <td>0.0</td>\n    </tr>\n    <tr>\n      <th>F9</th>\n      <td>28.0</td>\n    </tr>\n    <tr>\n      <th>NK</th>\n      <td>85.0</td>\n    </tr>\n    <tr>\n      <th>OO</th>\n      <td>0.0</td>\n    </tr>\n    <tr>\n      <th>UA</th>\n      <td>83.0</td>\n    </tr>\n    <tr>\n      <th>VX</th>\n      <td>1.0</td>\n    </tr>\n    <tr>\n      <th>WN</th>\n      <td>251.0</td>\n    </tr>\n    <tr>\n      <th>YX</th>\n      <td>0.0</td>\n    </tr>\n  </tbody>\n</table>\n</div>"
     },
     "execution_count": 33,
     "metadata": {},
     "output_type": "execute_result"
    }
   ],
   "source": [
    "# Identify the airports in the state of Tennessee.\n",
    "df['TN'] = df['airport_name'].apply(lambda x: x.find('TN'))\n",
    "\n",
    "# Create a set of airport names (to eliminate the duplicates)\n",
    "airports = set(df[df['TN'] != -1]['airport_name'])\n",
    "\n",
    "print('TN Airports:  ' + str(airports))"
   ],
   "metadata": {
    "collapsed": false,
    "ExecuteTime": {
     "end_time": "2023-09-01T22:40:06.708140Z",
     "start_time": "2023-09-01T22:40:06.684216Z"
    }
   },
   "id": "d36998e4642bae23"
  },
  {
   "cell_type": "code",
   "execution_count": 34,
   "outputs": [
    {
     "ename": "NameError",
     "evalue": "name 'diverted_arrivals' is not defined",
     "output_type": "error",
     "traceback": [
      "\u001B[0;31m---------------------------------------------------------------------------\u001B[0m",
      "\u001B[0;31mNameError\u001B[0m                                 Traceback (most recent call last)",
      "Cell \u001B[0;32mIn[34], line 1\u001B[0m\n\u001B[0;32m----> 1\u001B[0m \u001B[43mdiverted_arrivals\u001B[49m\u001B[38;5;241m.\u001B[39mplot()\n",
      "\u001B[0;31mNameError\u001B[0m: name 'diverted_arrivals' is not defined"
     ]
    }
   ],
   "source": [],
   "metadata": {
    "collapsed": false,
    "ExecuteTime": {
     "end_time": "2023-09-01T22:40:35.663735Z",
     "start_time": "2023-09-01T22:40:35.645757Z"
    }
   },
   "id": "722b9e1212583955"
  }
 ],
 "metadata": {
  "kernelspec": {
   "display_name": "Python 3",
   "language": "python",
   "name": "python3"
  },
  "language_info": {
   "codemirror_mode": {
    "name": "ipython",
    "version": 2
   },
   "file_extension": ".py",
   "mimetype": "text/x-python",
   "name": "python",
   "nbconvert_exporter": "python",
   "pygments_lexer": "ipython2",
   "version": "2.7.6"
  }
 },
 "nbformat": 4,
 "nbformat_minor": 5
}
